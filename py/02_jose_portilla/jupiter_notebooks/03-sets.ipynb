{
 "cells": [
  {
   "cell_type": "code",
   "execution_count": 43,
   "id": "e633751c",
   "metadata": {},
   "outputs": [],
   "source": [
    "nums = {1,2,3}\n",
    "\n",
    "def printNums() -> None:\n",
    "    print(nums)"
   ]
  },
  {
   "cell_type": "code",
   "execution_count": 44,
   "id": "b2657e0b",
   "metadata": {},
   "outputs": [
    {
     "name": "stdout",
     "output_type": "stream",
     "text": [
      "<class 'set'>\n",
      "{1, 2, 3, 4, 5, 6}\n"
     ]
    }
   ],
   "source": [
    "nums.update([4,5,6])\n",
    "print(type(nums)) # set\n",
    "\n",
    "printNums()"
   ]
  },
  {
   "cell_type": "code",
   "execution_count": 45,
   "id": "ec654e5d",
   "metadata": {},
   "outputs": [
    {
     "name": "stdout",
     "output_type": "stream",
     "text": [
      "{1, 2, 3, 4, 5, 6, 7}\n"
     ]
    }
   ],
   "source": [
    "nums.add(4)\n",
    "nums.add(7)\n",
    "printNums()"
   ]
  },
  {
   "cell_type": "code",
   "execution_count": 46,
   "id": "39c51542",
   "metadata": {},
   "outputs": [
    {
     "name": "stdout",
     "output_type": "stream",
     "text": [
      "{1, 2, 3, 4, 5, 7}\n"
     ]
    }
   ],
   "source": [
    "nums.discard(6)\n",
    "printNums()"
   ]
  },
  {
   "cell_type": "code",
   "execution_count": 47,
   "id": "4ff0aec5",
   "metadata": {},
   "outputs": [
    {
     "name": "stdout",
     "output_type": "stream",
     "text": [
      "{2, 3, 4, 5, 7}\n",
      "5\n"
     ]
    }
   ],
   "source": [
    "nums.pop()\n",
    "printNums()\n",
    "print(len(nums))"
   ]
  },
  {
   "cell_type": "code",
   "execution_count": 48,
   "id": "74fcafc0",
   "metadata": {},
   "outputs": [
    {
     "data": {
      "text/plain": [
       "{'i', 'm', 'p', 's'}"
      ]
     },
     "execution_count": 48,
     "metadata": {},
     "output_type": "execute_result"
    }
   ],
   "source": [
    "set('mississippi')"
   ]
  }
 ],
 "metadata": {
  "kernelspec": {
   "display_name": ".venv (3.13.2)",
   "language": "python",
   "name": "python3"
  },
  "language_info": {
   "codemirror_mode": {
    "name": "ipython",
    "version": 3
   },
   "file_extension": ".py",
   "mimetype": "text/x-python",
   "name": "python",
   "nbconvert_exporter": "python",
   "pygments_lexer": "ipython3",
   "version": "3.13.2"
  }
 },
 "nbformat": 4,
 "nbformat_minor": 5
}
